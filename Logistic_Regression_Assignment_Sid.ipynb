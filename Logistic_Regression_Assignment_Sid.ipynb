{
  "cells": [
    {
      "cell_type": "markdown",
      "metadata": {
        "id": "5K9x_0EnNUEt"
      },
      "source": [
        "#Logistic Regression Theoretical Questions\n",
        "\n",
        "####1. **What is Logistic Regression, and how does it differ from Linear Regression ?**\n",
        "\n",
        "**Answer:**\n",
        "Logistic Regression is a classification algorithm used to predict categorical outcomes, typically binary. Unlike Linear Regression, which predicts continuous values, Logistic Regression predicts the probability of a class using the sigmoid function to map predictions between 0 and 1.\n",
        "\n",
        "---\n",
        "\n",
        "####2. **What is the mathematical equation of Logistic Regression ?**\n",
        "\n",
        "**Answer:**\n",
        "The mathematical equation of Logistic Regression is:\n",
        "\n",
        "$$\n",
        "P(y = 1 \\mid \\mathbf{x}) = \\frac{1}{1 + \\exp^{-(\\beta_0 + \\beta_1 x_1 + \\dots + \\beta_n x_n)}}\n",
        "$$\n",
        "\n",
        "This gives the probability of the outcome being class 1. The probability of class 0 is:\n",
        "\n",
        "$$\n",
        "P(y = 0 \\mid \\mathbf{x}) = 1 - P(y = 1 \\mid \\mathbf{x})\n",
        "$$\n",
        "\n",
        "---\n",
        "\n",
        "####3. **Why do we use the Sigmoid function in Logistic Regression ?**\n",
        "\n",
        "**Answer:**\n",
        "The sigmoid function maps any real-valued number to a value between 0 and 1, making it ideal for predicting probabilities in binary classification tasks.\n",
        "\n",
        "---\n",
        "\n",
        "####4. **What is the cost function of Logistic Regression ?**\n",
        "\n",
        "**Answer:**\n",
        "The cost function is:\n",
        "\n",
        "$$\n",
        "J(\\theta) = -\\frac{1}{m} \\sum_{i=1}^{m} \\left[ y^{(i)} \\log(h_\\theta(x^{(i)})) + (1 - y^{(i)}) \\log(1 - h_\\theta(x^{(i)})) \\right]\n",
        "$$\n",
        "\n",
        "---\n",
        "\n",
        "####5. **What is Regularization in Logistic Regression? Why is it needed ?**\n",
        "\n",
        "**Answer:**\n",
        "Regularization prevents overfitting by penalizing large coefficient values. It adds a penalty term (L1, L2, or both) to the cost function, encouraging simpler models.\n",
        "\n",
        "---\n",
        "\n",
        "####6. **Explain the difference between Lasso, Ridge, and Elastic Net regression.**\n",
        "\n",
        "**Answer:**\n",
        "\n",
        "* **Lasso (L1)**: Adds absolute value of coefficients; promotes sparsity.\n",
        "* **Ridge (L2)**: Adds squared values of coefficients; discourages large coefficients.\n",
        "* **Elastic Net**: Combines L1 and L2; balances sparsity and shrinkage.\n",
        "\n",
        "---\n",
        "\n",
        "####7. **When should we use Elastic Net instead of Lasso or Ridge ?**\n",
        "\n",
        "**Answer:**\n",
        "Elastic Net is preferred when there are multiple correlated features, as it combines the strengths of both Lasso and Ridge.\n",
        "\n",
        "---\n",
        "\n",
        "####8. **What is the impact of the regularization parameter (λ) in Logistic Regression ?**\n",
        "\n",
        "**Answer:**\n",
        "A higher λ increases regularization, reducing model complexity and possibly underfitting. A lower λ decreases regularization, increasing model complexity and risk of overfitting.\n",
        "\n",
        "---\n",
        "\n",
        "####9. **What are the key assumptions of Logistic Regression ?**\n",
        "\n",
        "**Answer:**\n",
        "\n",
        "* No multicollinearity among independent variables.\n",
        "* Linear relationship between log-odds and independent variables.\n",
        "* Large sample size for reliable results.\n",
        "* Independent observations.\n",
        "\n",
        "---\n",
        "\n",
        "####10. **What are some alternatives to Logistic Regression for classification tasks ?**\n",
        "\n",
        "**Answer:**\n",
        "\n",
        "* Decision Trees\n",
        "* Random Forest\n",
        "* Support Vector Machines (SVM)\n",
        "* K-Nearest Neighbors (KNN)\n",
        "* Naive Bayes\n",
        "* Neural Networks\n",
        "\n",
        "---\n",
        "\n",
        "####11. **What are Classification Evaluation Metrics ?**\n",
        "\n",
        "**Answer:**\n",
        "\n",
        "* Accuracy\n",
        "* Precision\n",
        "* Recall\n",
        "* F1-Score\n",
        "* ROC-AUC\n",
        "* Confusion Matrix\n",
        "\n",
        "---\n",
        "\n",
        "####12. **How does class imbalance affect Logistic Regression ?**\n",
        "\n",
        "**Answer:**\n",
        "Class imbalance can bias the model toward the majority class, leading to poor performance on the minority class. Solutions include using class weights, oversampling, or undersampling.\n",
        "\n",
        "---\n",
        "\n",
        "####13. **What is Hyperparameter Tuning in Logistic Regression ?**\n",
        "\n",
        "**Answer:**\n",
        "It involves finding the best values for hyperparameters like regularization strength (C) and penalty type using techniques like GridSearchCV or RandomizedSearchCV to improve performance.\n",
        "\n",
        "---\n",
        "\n",
        "####14. **What are different solvers in Logistic Regression? Which one should be used ?**\n",
        "\n",
        "**Answer:**\n",
        "\n",
        "* **liblinear**: Good for small datasets and L1 regularization.\n",
        "* **lbfgs**: Efficient for large datasets.\n",
        "* **saga**: Supports all types of penalties and is suitable for large datasets.\n",
        "* **newton-cg**: Good for L2 penalty.\n",
        "\n",
        "Use the solver depending on dataset size and regularization type.\n",
        "\n",
        "---\n",
        "\n",
        "####15. **How is Logistic Regression extended for multiclass classification ?**\n",
        "\n",
        "**Answer:**\n",
        "It uses:\n",
        "\n",
        "* **One-vs-Rest (OvR)**: Trains one classifier per class.\n",
        "* **Multinomial (Softmax)**: Generalizes logistic regression to multiple classes directly.\n",
        "\n",
        "---\n",
        "\n",
        "####16. **What are the advantages and disadvantages of Logistic Regression ?**\n",
        "\n",
        "**Answer:**\n",
        "**Advantages**:\n",
        "\n",
        "* Simple and interpretable\n",
        "* Works well for binary classification\n",
        "* Efficient and requires fewer resources\n",
        "\n",
        "**Disadvantages**:\n",
        "\n",
        "* Assumes linearity in log-odds\n",
        "* Struggles with complex relationships\n",
        "* Sensitive to outliers\n",
        "\n",
        "---\n",
        "\n",
        "####17. **What are some use cases of Logistic Regression ?**\n",
        "\n",
        "**Answer:**\n",
        "\n",
        "* Email spam detection\n",
        "* Credit risk assessment\n",
        "* Disease diagnosis (e.g., diabetes prediction)\n",
        "* Customer churn prediction\n",
        "* Marketing campaign response prediction\n",
        "\n",
        "---\n",
        "\n",
        "####18. **What is the difference between Softmax Regression and Logistic Regression ?**\n",
        "\n",
        "**Answer:**\n",
        "\n",
        "* **Logistic Regression**: Used for binary classification.\n",
        "* **Softmax Regression**: Used for multiclass classification; generalizes logistic regression to more than two classes.\n",
        "\n",
        "---\n",
        "\n",
        "####19. **How do we choose between One-vs-Rest (OvR) and Softmax for multiclass classification ?**\n",
        "\n",
        "**Answer:**\n",
        "\n",
        "* **OvR**: Simpler, works well with smaller datasets.\n",
        "* **Softmax**: Preferred for large datasets and when mutual exclusivity between classes is assumed.\n",
        "\n",
        "---\n",
        "\n",
        "####20. **How do we interpret coefficients in Logistic Regression ?**\n",
        "\n",
        "**Answer:**\n",
        "Coefficients represent the change in the log-odds of the outcome for a one-unit change in the predictor. A positive coefficient increases the odds of the target class, while a negative one decreases it.\n",
        "\n",
        "---"
      ]
    },
    {
      "cell_type": "code",
      "execution_count": null,
      "metadata": {
        "colab": {
          "base_uri": "https://localhost:8080/"
        },
        "id": "CKbyd5bBWiaM",
        "outputId": "36a7bc5a-8f34-479b-8b03-36ae04f05ab8"
      },
      "outputs": [
        {
          "name": "stdout",
          "output_type": "stream",
          "text": [
            "Model accuracy: 0.9561\n"
          ]
        }
      ],
      "source": [
        "##Practical Questions\n",
        "#1. Write a Python program that loads a dataset, splits it into training and testing sets, applies Logistic Regression, and prints the model accuracy.\n",
        "\n",
        "from sklearn.datasets import load_breast_cancer\n",
        "from sklearn.linear_model import LogisticRegression\n",
        "from sklearn.model_selection import train_test_split\n",
        "from sklearn.metrics import accuracy_score\n",
        "\n",
        "# Load dataset\n",
        "data = load_breast_cancer()\n",
        "X, y = data.data, data.target\n",
        "\n",
        "# Split dataset into train and test sets\n",
        "X_train, X_test, y_train, y_test = train_test_split(\n",
        "    X, y, test_size=0.2, random_state=42\n",
        ")\n",
        "\n",
        "# Create Logistic Regression model\n",
        "model = LogisticRegression(max_iter=10000, random_state=42)\n",
        "\n",
        "# Train the model\n",
        "model.fit(X_train, y_train)\n",
        "\n",
        "# Predict on test set\n",
        "y_pred = model.predict(X_test)\n",
        "\n",
        "# Calculate accuracy\n",
        "accuracy = accuracy_score(y_test, y_pred)\n",
        "print(f\"Model accuracy: {accuracy:.4f}\")"
      ]
    },
    {
      "cell_type": "code",
      "execution_count": null,
      "metadata": {
        "colab": {
          "base_uri": "https://localhost:8080/"
        },
        "id": "C3gy-ZubZQiL",
        "outputId": "fbe990ab-f027-48e2-fefd-954533935048"
      },
      "outputs": [
        {
          "name": "stdout",
          "output_type": "stream",
          "text": [
            "Accuracy with L1 regularization: 0.9561\n"
          ]
        }
      ],
      "source": [
        "#2. Write a Python program to apply L1 regularization (Lasso) on a dataset using LogisticRegression(penalty='l1') and print the model accuracy.\n",
        "\n",
        "from sklearn.datasets import load_breast_cancer\n",
        "from sklearn.linear_model import LogisticRegression\n",
        "from sklearn.model_selection import train_test_split\n",
        "from sklearn.metrics import accuracy_score\n",
        "\n",
        "# Load dataset\n",
        "data = load_breast_cancer()\n",
        "X, y = data.data, data.target\n",
        "\n",
        "# Split dataset into train/test sets\n",
        "X_train, X_test, y_train, y_test = train_test_split(\n",
        "    X, y, test_size=0.2, random_state=42\n",
        ")\n",
        "\n",
        "# Create Logistic Regression with L1 penalty (Lasso)\n",
        "# Note: 'liblinear' or 'saga' solver supports L1 penalty\n",
        "model = LogisticRegression(penalty='l1', solver='liblinear', max_iter=1000, random_state=42)\n",
        "\n",
        "# Train the model\n",
        "model.fit(X_train, y_train)\n",
        "\n",
        "# Predict on test data\n",
        "y_pred = model.predict(X_test)\n",
        "\n",
        "# Calculate accuracy\n",
        "accuracy = accuracy_score(y_test, y_pred)\n",
        "print(f\"Accuracy with L1 regularization: {accuracy:.4f}\")"
      ]
    },
    {
      "cell_type": "code",
      "execution_count": null,
      "metadata": {
        "colab": {
          "base_uri": "https://localhost:8080/"
        },
        "id": "syTd-VRnZQZ0",
        "outputId": "ad5a1229-ab76-40df-a1ae-b271d7d67426"
      },
      "outputs": [
        {
          "name": "stdout",
          "output_type": "stream",
          "text": [
            "Accuracy: 0.9561\n",
            "Model coefficients:\n",
            "mean radius: 1.0274\n",
            "mean texture: 0.2215\n",
            "mean perimeter: -0.3621\n",
            "mean area: 0.0255\n",
            "mean smoothness: -0.1562\n",
            "mean compactness: -0.2377\n",
            "mean concavity: -0.5326\n",
            "mean concave points: -0.2837\n",
            "mean symmetry: -0.2267\n",
            "mean fractal dimension: -0.0365\n",
            "radius error: -0.0971\n",
            "texture error: 1.3706\n",
            "perimeter error: -0.1814\n",
            "area error: -0.0872\n",
            "smoothness error: -0.0225\n",
            "compactness error: 0.0474\n",
            "concavity error: -0.0429\n",
            "concave points error: -0.0324\n",
            "symmetry error: -0.0347\n",
            "fractal dimension error: 0.0116\n",
            "worst radius: 0.1117\n",
            "worst texture: -0.5089\n",
            "worst perimeter: -0.0156\n",
            "worst area: -0.0169\n",
            "worst smoothness: -0.3077\n",
            "worst compactness: -0.7727\n",
            "worst concavity: -1.4286\n",
            "worst concave points: -0.5109\n",
            "worst symmetry: -0.7469\n",
            "worst fractal dimension: -0.1009\n"
          ]
        }
      ],
      "source": [
        "#3. Write a Python program to train Logistic Regression with L2 regularization (Ridge) using LogisticRegression(penalty='l2'). Print model accuracy and coefficients.\n",
        "\n",
        "from sklearn.datasets import load_breast_cancer\n",
        "from sklearn.linear_model import LogisticRegression\n",
        "from sklearn.model_selection import train_test_split\n",
        "from sklearn.metrics import accuracy_score\n",
        "\n",
        "# Load dataset\n",
        "data = load_breast_cancer()\n",
        "X, y = data.data, data.target\n",
        "\n",
        "# Split dataset into train/test sets\n",
        "X_train, X_test, y_train, y_test = train_test_split(\n",
        "    X, y, test_size=0.2, random_state=42\n",
        ")\n",
        "\n",
        "# Create Logistic Regression with L2 penalty (Ridge)\n",
        "model = LogisticRegression(penalty='l2', solver='lbfgs', max_iter=10000, random_state=42)\n",
        "\n",
        "# Train the model\n",
        "model.fit(X_train, y_train)\n",
        "\n",
        "# Predict on test data\n",
        "y_pred = model.predict(X_test)\n",
        "\n",
        "# Calculate accuracy\n",
        "accuracy = accuracy_score(y_test, y_pred)\n",
        "print(f\"Accuracy: {accuracy:.4f}\")\n",
        "\n",
        "# Print model coefficients\n",
        "print(\"Model coefficients:\")\n",
        "for feature, coef in zip(data.feature_names, model.coef_[0]):\n",
        "    print(f\"{feature}: {coef:.4f}\")"
      ]
    },
    {
      "cell_type": "code",
      "execution_count": null,
      "metadata": {
        "colab": {
          "base_uri": "https://localhost:8080/"
        },
        "id": "bThwEoLAZQRQ",
        "outputId": "6a8ca563-f1dd-478e-ba80-907d76273726"
      },
      "outputs": [
        {
          "name": "stdout",
          "output_type": "stream",
          "text": [
            "Accuracy with Elastic Net regularization: 0.9737\n"
          ]
        }
      ],
      "source": [
        "#4. Write a Python program to train Logistic Regression with Elastic Net Regularization (penalty='elasticnet').\n",
        "\n",
        "from sklearn.datasets import load_breast_cancer\n",
        "from sklearn.linear_model import LogisticRegression\n",
        "from sklearn.model_selection import train_test_split\n",
        "from sklearn.metrics import accuracy_score\n",
        "\n",
        "# Load dataset\n",
        "data = load_breast_cancer()\n",
        "X, y = data.data, data.target\n",
        "\n",
        "# Split dataset into train and test sets\n",
        "X_train, X_test, y_train, y_test = train_test_split(\n",
        "    X, y, test_size=0.2, random_state=42\n",
        ")\n",
        "\n",
        "# Create Logistic Regression with elasticnet penalty\n",
        "# Note: 'saga' solver is required for elasticnet penalty\n",
        "model = LogisticRegression(\n",
        "    penalty='elasticnet',\n",
        "    l1_ratio=0.5,          # Balance between L1 and L2 (0=l2, 1=l1)\n",
        "    solver='saga',\n",
        "    max_iter=5000,\n",
        "    random_state=42\n",
        ")\n",
        "\n",
        "# Train the model\n",
        "model.fit(X_train, y_train)\n",
        "\n",
        "# Predict on test data\n",
        "y_pred = model.predict(X_test)\n",
        "\n",
        "# Evaluate accuracy\n",
        "accuracy = accuracy_score(y_test, y_pred)\n",
        "print(f\"Accuracy with Elastic Net regularization: {accuracy:.4f}\")"
      ]
    },
    {
      "cell_type": "code",
      "execution_count": null,
      "metadata": {
        "colab": {
          "base_uri": "https://localhost:8080/"
        },
        "id": "6W_HpUswZQJb",
        "outputId": "8af93320-6d37-4590-aa8e-5d162c0af21e"
      },
      "outputs": [
        {
          "name": "stdout",
          "output_type": "stream",
          "text": [
            "Test set accuracy (One-vs-Rest): 0.9667\n"
          ]
        }
      ],
      "source": [
        "#5. Write a Python program to train a Logistic Regression model for multiclass classification using multi_class='ovr'.\n",
        "\n",
        "from sklearn.datasets import load_iris\n",
        "from sklearn.linear_model import LogisticRegression\n",
        "from sklearn.model_selection import train_test_split\n",
        "from sklearn.metrics import accuracy_score\n",
        "from sklearn.multiclass import OneVsRestClassifier\n",
        "\n",
        "# Load multiclass dataset (Iris)\n",
        "data = load_iris()\n",
        "X, y = data.data, data.target\n",
        "\n",
        "# Split dataset into train/test sets\n",
        "X_train, X_test, y_train, y_test = train_test_split(\n",
        "    X, y, test_size=0.2, random_state=42\n",
        ")\n",
        "\n",
        "# Wrap LogisticRegression with OneVsRestClassifier for OvR strategy\n",
        "ovr_model = OneVsRestClassifier(\n",
        "    LogisticRegression(max_iter=1000, random_state=42)\n",
        ")\n",
        "\n",
        "# Train the model\n",
        "ovr_model.fit(X_train, y_train)\n",
        "\n",
        "# Predict on test set\n",
        "y_pred = ovr_model.predict(X_test)\n",
        "\n",
        "# Evaluate accuracy\n",
        "accuracy = accuracy_score(y_test, y_pred)\n",
        "print(f\"Test set accuracy (One-vs-Rest): {accuracy:.4f}\")"
      ]
    },
    {
      "cell_type": "code",
      "execution_count": null,
      "metadata": {
        "colab": {
          "base_uri": "https://localhost:8080/"
        },
        "id": "qNio5VsCZQBH",
        "outputId": "3363ac56-0c28-4ebb-c660-627cea1ce3c0"
      },
      "outputs": [
        {
          "name": "stdout",
          "output_type": "stream",
          "text": [
            "Fitting 5 folds for each of 10 candidates, totalling 50 fits\n",
            "Best parameters: {'C': 100, 'penalty': 'l1'}\n",
            "Test set accuracy with best parameters: 0.9825\n"
          ]
        }
      ],
      "source": [
        "#6. Write a Python program to apply GridSearchCV to tune the hyperparameters (C and penalty) of Logistic Regression. Print the best parameters and accuracy.\n",
        "\n",
        "from sklearn.datasets import load_breast_cancer\n",
        "from sklearn.linear_model import LogisticRegression\n",
        "from sklearn.model_selection import GridSearchCV, train_test_split\n",
        "from sklearn.metrics import accuracy_score\n",
        "\n",
        "# Load data\n",
        "data = load_breast_cancer()\n",
        "X, y = data.data, data.target\n",
        "\n",
        "# Split dataset into train/test sets\n",
        "X_train, X_test, y_train, y_test = train_test_split(\n",
        "    X, y, test_size=0.2, random_state=42\n",
        ")\n",
        "\n",
        "# Define Logistic Regression model\n",
        "model = LogisticRegression(max_iter=1000, solver='liblinear', random_state=42)\n",
        "\n",
        "# Define hyperparameter grid\n",
        "param_grid = {\n",
        "    'C': [0.01, 0.1, 1, 10, 100],\n",
        "    'penalty': ['l1', 'l2']  # 'liblinear' supports both l1 and l2\n",
        "}\n",
        "\n",
        "# Set up GridSearchCV\n",
        "grid_search = GridSearchCV(\n",
        "    estimator=model,\n",
        "    param_grid=param_grid,\n",
        "    scoring='accuracy',\n",
        "    cv=5,\n",
        "    n_jobs=-1,\n",
        "    verbose=1\n",
        ")\n",
        "\n",
        "# Fit GridSearchCV\n",
        "grid_search.fit(X_train, y_train)\n",
        "\n",
        "# Best parameters\n",
        "print(\"Best parameters:\", grid_search.best_params_)\n",
        "\n",
        "# Predict and evaluate on test set\n",
        "y_pred = grid_search.predict(X_test)\n",
        "accuracy = accuracy_score(y_test, y_pred)\n",
        "print(f\"Test set accuracy with best parameters: {accuracy:.4f}\")"
      ]
    },
    {
      "cell_type": "code",
      "execution_count": null,
      "metadata": {
        "colab": {
          "base_uri": "https://localhost:8080/"
        },
        "id": "qgLjL9RuZP5T",
        "outputId": "6270ec3a-097e-4e8b-8f1b-b4140de63453"
      },
      "outputs": [
        {
          "name": "stdout",
          "output_type": "stream",
          "text": [
            "Average accuracy (Stratified K-Fold CV): 0.9543\n"
          ]
        }
      ],
      "source": [
        "#7. Write a Python program to evaluate Logistic Regression using Stratified K-Fold Cross-Validation. Print the average accuracy.\n",
        "\n",
        "import numpy as np\n",
        "from sklearn.datasets import load_breast_cancer\n",
        "from sklearn.linear_model import LogisticRegression\n",
        "from sklearn.model_selection import StratifiedKFold\n",
        "from sklearn.metrics import accuracy_score\n",
        "\n",
        "# Load sample dataset\n",
        "data = load_breast_cancer()\n",
        "X, y = data.data, data.target\n",
        "\n",
        "# Initialize Stratified K-Fold (e.g., 5 folds)\n",
        "skf = StratifiedKFold(n_splits=5, shuffle=True, random_state=42)\n",
        "\n",
        "accuracies = []\n",
        "\n",
        "# Perform Stratified K-Fold CV\n",
        "for train_index, test_index in skf.split(X, y):\n",
        "    X_train, X_test = X[train_index], X[test_index]\n",
        "    y_train, y_test = y[train_index], y[test_index]\n",
        "\n",
        "    # Initialize and train Logistic Regression\n",
        "    model = LogisticRegression(max_iter=10000, random_state=42)\n",
        "    model.fit(X_train, y_train)\n",
        "\n",
        "    # Predict and calculate accuracy\n",
        "    y_pred = model.predict(X_test)\n",
        "    acc = accuracy_score(y_test, y_pred)\n",
        "    accuracies.append(acc)\n",
        "\n",
        "# Print average accuracy across folds\n",
        "print(f\"Average accuracy (Stratified K-Fold CV): {np.mean(accuracies):.4f}\")"
      ]
    },
    {
      "cell_type": "code",
      "execution_count": null,
      "metadata": {
        "colab": {
          "base_uri": "https://localhost:8080/"
        },
        "id": "C-we_fwnZPxO",
        "outputId": "fc6c1b7a-8442-45f0-8d4e-3005013ee447"
      },
      "outputs": [
        {
          "name": "stdout",
          "output_type": "stream",
          "text": [
            "Accuracy: 0.7989\n"
          ]
        }
      ],
      "source": [
        "#8. Write a Python program to load a dataset from a CSV file, apply Logistic Regression, and evaluate its accuracy.\n",
        "\n",
        "import pandas as pd\n",
        "from sklearn.linear_model import LogisticRegression\n",
        "from sklearn.model_selection import train_test_split\n",
        "from sklearn.metrics import accuracy_score\n",
        "\n",
        "# URL of online CSV file (example: Titanic dataset from GitHub)\n",
        "url = 'https://raw.githubusercontent.com/datasciencedojo/datasets/master/titanic.csv'\n",
        "\n",
        "# Load dataset from URL\n",
        "data = pd.read_csv(url)\n",
        "\n",
        "# Example preprocessing for Titanic dataset:\n",
        "# We'll predict 'Survived' and use a few numeric/categorical columns\n",
        "# Fill missing 'Age' with median, fill missing 'Embarked' with mode\n",
        "data['Age'] = data['Age'].fillna(data['Age'].median())\n",
        "data['Embarked'] = data['Embarked'].fillna(data['Embarked'].mode()[0])\n",
        "\n",
        "# Select features and target\n",
        "X = data[['Pclass', 'Sex', 'Age', 'Fare', 'Embarked']]\n",
        "y = data['Survived']\n",
        "\n",
        "# Convert categorical columns using one-hot encoding\n",
        "X = pd.get_dummies(X, drop_first=True)\n",
        "\n",
        "# Split data\n",
        "X_train, X_test, y_train, y_test = train_test_split(\n",
        "    X, y, test_size=0.2, random_state=42\n",
        ")\n",
        "\n",
        "# Train logistic regression\n",
        "model = LogisticRegression(max_iter=1000, random_state=42)\n",
        "model.fit(X_train, y_train)\n",
        "\n",
        "# Predict and evaluate\n",
        "y_pred = model.predict(X_test)\n",
        "accuracy = accuracy_score(y_test, y_pred)\n",
        "print(f\"Accuracy: {accuracy:.4f}\")"
      ]
    },
    {
      "cell_type": "code",
      "execution_count": null,
      "metadata": {
        "colab": {
          "base_uri": "https://localhost:8080/"
        },
        "id": "HNvZD1CXZPpJ",
        "outputId": "2a020346-1776-4ece-e557-dd1a0164c822"
      },
      "outputs": [
        {
          "name": "stdout",
          "output_type": "stream",
          "text": [
            "Fitting 5 folds for each of 10 candidates, totalling 50 fits\n",
            "Fitting 5 folds for each of 10 candidates, totalling 50 fits\n",
            "Fitting 5 folds for each of 10 candidates, totalling 50 fits\n",
            "Best parameters found: {'logreg__C': np.float64(3.347086111390218), 'logreg__penalty': 'l2', 'logreg__solver': 'liblinear'}\n",
            "Test set accuracy with best parameters: 0.9737\n"
          ]
        }
      ],
      "source": [
        "#9. Write a Python program to apply RandomizedSearchCV for tuning hyperparameters (C, penalty, solver) in Logistic Regression. Print the best parameters and accuracy.\n",
        "\n",
        "from sklearn.datasets import load_breast_cancer\n",
        "from sklearn.linear_model import LogisticRegression\n",
        "from sklearn.model_selection import RandomizedSearchCV, train_test_split\n",
        "from sklearn.preprocessing import StandardScaler\n",
        "from sklearn.pipeline import Pipeline\n",
        "from sklearn.metrics import accuracy_score\n",
        "from scipy.stats import uniform\n",
        "import numpy as np\n",
        "\n",
        "# Load data\n",
        "data = load_breast_cancer()\n",
        "X, y = data.data, data.target\n",
        "\n",
        "# Split into train and test\n",
        "X_train, X_test, y_train, y_test = train_test_split(\n",
        "    X, y, test_size=0.2, random_state=42\n",
        ")\n",
        "\n",
        "# Create pipeline: scaling + logistic regression\n",
        "pipe = Pipeline([\n",
        "    ('scaler', StandardScaler()),\n",
        "    ('logreg', LogisticRegression(max_iter=5000, random_state=42))\n",
        "])\n",
        "\n",
        "# Valid solver-penalty combinations with corrected 'None' (Python None, not string)\n",
        "param_dist = [\n",
        "    {\n",
        "        'logreg__solver': ['liblinear'],\n",
        "        'logreg__penalty': ['l1', 'l2'],\n",
        "        'logreg__C': uniform(0.01, 10)\n",
        "    },\n",
        "    {\n",
        "        'logreg__solver': ['lbfgs', 'newton-cg', 'sag'],\n",
        "        'logreg__penalty': ['l2'],  # these solvers support only l2 penalty\n",
        "        'logreg__C': uniform(0.01, 10)\n",
        "    },\n",
        "    {\n",
        "        'logreg__solver': ['saga'],\n",
        "        'logreg__penalty': ['l1', 'l2', 'elasticnet', None],  # Use None without quotes here\n",
        "        'logreg__C': uniform(0.01, 10),\n",
        "        'logreg__l1_ratio': uniform(0, 1)  # l1_ratio used only if penalty='elasticnet', ignored otherwise\n",
        "    }\n",
        "]\n",
        "\n",
        "best_score = -np.inf\n",
        "best_params = None\n",
        "best_estimator = None\n",
        "\n",
        "for params in param_dist:\n",
        "    random_search = RandomizedSearchCV(\n",
        "        estimator=pipe,\n",
        "        param_distributions=params,\n",
        "        n_iter=10,\n",
        "        scoring='accuracy',\n",
        "        cv=5,\n",
        "        verbose=1,\n",
        "        random_state=42,\n",
        "        n_jobs=-1\n",
        "    )\n",
        "    random_search.fit(X_train, y_train)\n",
        "\n",
        "    if random_search.best_score_ > best_score:\n",
        "        best_score = random_search.best_score_\n",
        "        best_params = random_search.best_params_\n",
        "        best_estimator = random_search.best_estimator_\n",
        "\n",
        "print(\"Best parameters found:\", best_params)\n",
        "\n",
        "# Evaluate on test set\n",
        "y_pred = best_estimator.predict(X_test)\n",
        "accuracy = accuracy_score(y_test, y_pred)\n",
        "print(f\"Test set accuracy with best parameters: {accuracy:.4f}\")"
      ]
    },
    {
      "cell_type": "code",
      "execution_count": null,
      "metadata": {
        "colab": {
          "base_uri": "https://localhost:8080/"
        },
        "id": "lluZoZfkZPgP",
        "outputId": "e3fab1be-dcca-4ce2-e7a6-31a43179d508"
      },
      "outputs": [
        {
          "name": "stdout",
          "output_type": "stream",
          "text": [
            "One-vs-One Logistic Regression Accuracy: 0.9833\n"
          ]
        }
      ],
      "source": [
        "#10. Write a Python program to implement One-vs-One (OvO) Multiclass Logistic Regression and print accuracy.\n",
        "\n",
        "from sklearn.datasets import load_digits\n",
        "from sklearn.model_selection import train_test_split\n",
        "from sklearn.linear_model import LogisticRegression\n",
        "from sklearn.multiclass import OneVsOneClassifier\n",
        "from sklearn.metrics import accuracy_score\n",
        "\n",
        "# Load multiclass dataset\n",
        "X, y = load_digits(return_X_y=True)\n",
        "\n",
        "# Split into training and test sets\n",
        "X_train, X_test, y_train, y_test = train_test_split(X, y, test_size=0.2, random_state=42)\n",
        "\n",
        "# Create One-vs-One classifier with Logistic Regression\n",
        "ovo_model = OneVsOneClassifier(LogisticRegression(max_iter=1000, solver='liblinear'))\n",
        "\n",
        "# Train the model\n",
        "ovo_model.fit(X_train, y_train)\n",
        "\n",
        "# Predict and evaluate\n",
        "y_pred = ovo_model.predict(X_test)\n",
        "accuracy = accuracy_score(y_test, y_pred)\n",
        "\n",
        "print(f\"One-vs-One Logistic Regression Accuracy: {accuracy:.4f}\")"
      ]
    },
    {
      "cell_type": "code",
      "execution_count": null,
      "metadata": {
        "colab": {
          "base_uri": "https://localhost:8080/",
          "height": 472
        },
        "id": "rPqM6jjRZPXc",
        "outputId": "8c1ceb97-a363-4973-8770-0c3f04a00dfc"
      },
      "outputs": [
        {
          "data": {
            "image/png": "[encoded data removed]",
            "text/plain": [
              "<Figure size 640x480 with 2 Axes>"
            ]
          },
          "metadata": {},
          "output_type": "display_data"
        }
      ],
      "source": [
        "#11. Write a Python program to train a Logistic Regression model and visualize the confusion matrix for binary classification.\n",
        "\n",
        "from sklearn.datasets import load_breast_cancer\n",
        "from sklearn.model_selection import train_test_split\n",
        "from sklearn.linear_model import LogisticRegression\n",
        "from sklearn.metrics import ConfusionMatrixDisplay\n",
        "import matplotlib.pyplot as plt\n",
        "\n",
        "# Load binary classification dataset\n",
        "X, y = load_breast_cancer(return_X_y=True)\n",
        "X_train, X_test, y_train, y_test = train_test_split(X, y, test_size=0.2, random_state=42)\n",
        "\n",
        "# Train Logistic Regression model\n",
        "model = LogisticRegression(max_iter=10000)\n",
        "model.fit(X_train, y_train)\n",
        "\n",
        "# Plot confusion matrix\n",
        "ConfusionMatrixDisplay.from_estimator(model, X_test, y_test)\n",
        "plt.title(\"Confusion Matrix\")\n",
        "plt.show()"
      ]
    },
    {
      "cell_type": "code",
      "execution_count": null,
      "metadata": {
        "colab": {
          "base_uri": "https://localhost:8080/"
        },
        "id": "od7AfXG4ZPPG",
        "outputId": "93e73d54-a015-447b-8f3c-dc9e4de7e6fa"
      },
      "outputs": [
        {
          "name": "stdout",
          "output_type": "stream",
          "text": [
            "Precision: 0.946\n",
            "Recall: 0.986\n",
            "F1-Score: 0.966\n"
          ]
        }
      ],
      "source": [
        "#12. Write a Python program to train a Logistic Regression model and evaluate its performance using Precision, Recall, and F1-Score.\n",
        "\n",
        "from sklearn.datasets import load_breast_cancer\n",
        "from sklearn.model_selection import train_test_split\n",
        "from sklearn.linear_model import LogisticRegression\n",
        "from sklearn.metrics import precision_score, recall_score, f1_score\n",
        "\n",
        "# Load example dataset\n",
        "data = load_breast_cancer()\n",
        "X, y = data.data, data.target\n",
        "\n",
        "# Split into training and test sets\n",
        "X_train, X_test, y_train, y_test = train_test_split(\n",
        "    X, y, test_size=0.2, random_state=42\n",
        ")\n",
        "\n",
        "# Initialize and train Logistic Regression model\n",
        "model = LogisticRegression(max_iter=10000, random_state=42)\n",
        "model.fit(X_train, y_train)\n",
        "\n",
        "# Predict on test data\n",
        "y_pred = model.predict(X_test)\n",
        "\n",
        "# Evaluate performance\n",
        "precision = precision_score(y_test, y_pred)\n",
        "recall = recall_score(y_test, y_pred)\n",
        "f1 = f1_score(y_test, y_pred)\n",
        "\n",
        "print(f\"Precision: {precision:.3f}\")\n",
        "print(f\"Recall: {recall:.3f}\")\n",
        "print(f\"F1-Score: {f1:.3f}\")"
      ]
    },
    {
      "cell_type": "code",
      "execution_count": null,
      "metadata": {
        "colab": {
          "base_uri": "https://localhost:8080/"
        },
        "id": "vU4xAN2vZPGg",
        "outputId": "d6fcd8d3-5a8d-49a2-f52b-121276bfdaaa"
      },
      "outputs": [
        {
          "name": "stdout",
          "output_type": "stream",
          "text": [
            "Without class weights:\n",
            "[[174   6]\n",
            " [ 10  10]]\n",
            "              precision    recall  f1-score   support\n",
            "\n",
            "           0       0.95      0.97      0.96       180\n",
            "           1       0.62      0.50      0.56        20\n",
            "\n",
            "    accuracy                           0.92       200\n",
            "   macro avg       0.79      0.73      0.76       200\n",
            "weighted avg       0.91      0.92      0.92       200\n",
            "\n",
            "With class weights:\n",
            "[[160  20]\n",
            " [  2  18]]\n",
            "              precision    recall  f1-score   support\n",
            "\n",
            "           0       0.99      0.89      0.94       180\n",
            "           1       0.47      0.90      0.62        20\n",
            "\n",
            "    accuracy                           0.89       200\n",
            "   macro avg       0.73      0.89      0.78       200\n",
            "weighted avg       0.94      0.89      0.90       200\n",
            "\n"
          ]
        }
      ],
      "source": [
        "#13. Write a Python program to train a Logistic Regression model on imbalanced data and apply class weights to improve model performance.\n",
        "\n",
        "import pandas as pd\n",
        "import numpy as np\n",
        "from sklearn.datasets import make_classification\n",
        "from sklearn.model_selection import train_test_split\n",
        "from sklearn.linear_model import LogisticRegression\n",
        "from sklearn.metrics import classification_report, confusion_matrix\n",
        "\n",
        "# Generate imbalanced binary classification dataset\n",
        "X, y = make_classification(\n",
        "    n_samples=1000,\n",
        "    n_features=20,\n",
        "    n_classes=2,\n",
        "    weights=[0.9, 0.1],  # 90% of class 0, 10% of class 1 (imbalanced)\n",
        "    flip_y=0,\n",
        "    random_state=42\n",
        ")\n",
        "\n",
        "# Split into train and test sets\n",
        "X_train, X_test, y_train, y_test = train_test_split(\n",
        "    X, y, test_size=0.2, random_state=42, stratify=y\n",
        ")\n",
        "\n",
        "# Train logistic regression without class weights\n",
        "clf_no_weights = LogisticRegression(max_iter=1000, random_state=42)\n",
        "clf_no_weights.fit(X_train, y_train)\n",
        "y_pred_no_weights = clf_no_weights.predict(X_test)\n",
        "\n",
        "print(\"Without class weights:\")\n",
        "print(confusion_matrix(y_test, y_pred_no_weights))\n",
        "print(classification_report(y_test, y_pred_no_weights))\n",
        "\n",
        "# Train logistic regression with balanced class weights\n",
        "clf_weighted = LogisticRegression(class_weight='balanced', max_iter=1000, random_state=42)\n",
        "clf_weighted.fit(X_train, y_train)\n",
        "y_pred_weighted = clf_weighted.predict(X_test)\n",
        "\n",
        "print(\"With class weights:\")\n",
        "print(confusion_matrix(y_test, y_pred_weighted))\n",
        "print(classification_report(y_test, y_pred_weighted))"
      ]
    },
    {
      "cell_type": "code",
      "execution_count": null,
      "metadata": {
        "colab": {
          "base_uri": "https://localhost:8080/"
        },
        "id": "8Rp9SpaTZO_N",
        "outputId": "bcadd0f6-28a8-4c69-d5f5-133de95db063"
      },
      "outputs": [
        {
          "name": "stdout",
          "output_type": "stream",
          "text": [
            "Accuracy: 0.8100558659217877\n",
            "Precision: 0.7857142857142857\n",
            "Recall: 0.7432432432432432\n",
            "F1 Score: 0.7638888888888888\n"
          ]
        }
      ],
      "source": [
        "#14. Write a Python program to train Logistic Regression on the Titanic dataset, handle missing values, and evaluate performance.\n",
        "\n",
        "import pandas as pd\n",
        "import numpy as np\n",
        "from sklearn.model_selection import train_test_split\n",
        "from sklearn.linear_model import LogisticRegression\n",
        "from sklearn.metrics import accuracy_score, precision_score, recall_score, f1_score\n",
        "from sklearn.preprocessing import OneHotEncoder\n",
        "from sklearn.impute import SimpleImputer\n",
        "from sklearn.compose import ColumnTransformer\n",
        "from sklearn.pipeline import Pipeline\n",
        "import seaborn as sns\n",
        "\n",
        "# Load Titanic dataset\n",
        "titanic = sns.load_dataset('titanic')\n",
        "\n",
        "# Target and features\n",
        "target = 'survived'\n",
        "features = ['pclass', 'sex', 'age', 'sibsp', 'parch', 'fare', 'embarked']\n",
        "\n",
        "X = titanic[features]\n",
        "y = titanic[target]\n",
        "\n",
        "# Define numeric and categorical features\n",
        "numeric_features = ['age', 'sibsp', 'parch', 'fare', 'pclass']\n",
        "categorical_features = ['sex', 'embarked']\n",
        "\n",
        "# Numeric transformer: impute missing with median\n",
        "numeric_transformer = SimpleImputer(strategy='median')\n",
        "\n",
        "# Categorical transformer: impute missing with most frequent and one-hot encode\n",
        "categorical_transformer = Pipeline(steps=[\n",
        "    ('imputer', SimpleImputer(strategy='most_frequent')),\n",
        "    ('onehot', OneHotEncoder(handle_unknown='ignore'))\n",
        "])\n",
        "\n",
        "# Combine preprocessors\n",
        "preprocessor = ColumnTransformer(\n",
        "    transformers=[\n",
        "        ('num', numeric_transformer, numeric_features),\n",
        "        ('cat', categorical_transformer, categorical_features)\n",
        "    ])\n",
        "\n",
        "# Create pipeline with preprocessor and logistic regression model\n",
        "clf = Pipeline(steps=[\n",
        "    ('preprocessor', preprocessor),\n",
        "    ('classifier', LogisticRegression(max_iter=1000))\n",
        "])\n",
        "\n",
        "# Split data into train and test sets\n",
        "X_train, X_test, y_train, y_test = train_test_split(X, y, test_size=0.2, random_state=42)\n",
        "\n",
        "# Train model\n",
        "clf.fit(X_train, y_train)\n",
        "\n",
        "# Predict on test set\n",
        "y_pred = clf.predict(X_test)\n",
        "\n",
        "# Evaluate performance\n",
        "print(\"Accuracy:\", accuracy_score(y_test, y_pred))\n",
        "print(\"Precision:\", precision_score(y_test, y_pred))\n",
        "print(\"Recall:\", recall_score(y_test, y_pred))\n",
        "print(\"F1 Score:\", f1_score(y_test, y_pred))"
      ]
    },
    {
      "cell_type": "code",
      "execution_count": null,
      "metadata": {
        "colab": {
          "base_uri": "https://localhost:8080/"
        },
        "id": "BV0RU_XoZO3Y",
        "outputId": "f8c5150c-3dbf-4eb5-cec2-86d3f022c34a"
      },
      "outputs": [
        {
          "name": "stdout",
          "output_type": "stream",
          "text": [
            "Accuracy without scaling: 0.956140350877193\n",
            "Accuracy with scaling: 0.9736842105263158\n"
          ]
        }
      ],
      "source": [
        "#15. Write a Python program to apply feature scaling (Standardization) before training a Logistic Regression model. Evaluate its accuracy and compare results with and without scaling.\n",
        "\n",
        "from sklearn.datasets import load_breast_cancer\n",
        "from sklearn.model_selection import train_test_split\n",
        "from sklearn.preprocessing import StandardScaler\n",
        "from sklearn.linear_model import LogisticRegression\n",
        "\n",
        "# Load binary classification dataset\n",
        "X, y = load_breast_cancer(return_X_y=True)\n",
        "\n",
        "# Split into training and testing sets\n",
        "X_train, X_test, y_train, y_test = train_test_split(X, y, test_size=0.2, random_state=42)\n",
        "\n",
        "# Train model without feature scaling\n",
        "raw_model = LogisticRegression(max_iter=10000)\n",
        "raw_model.fit(X_train, y_train)\n",
        "raw_accuracy = raw_model.score(X_test, y_test)\n",
        "\n",
        "# Apply standardization (feature scaling)\n",
        "scaler = StandardScaler()\n",
        "X_train_scaled = scaler.fit_transform(X_train)\n",
        "X_test_scaled = scaler.transform(X_test)\n",
        "\n",
        "# Train model on scaled data\n",
        "scaled_model = LogisticRegression(max_iter=1000)\n",
        "scaled_model.fit(X_train_scaled, y_train)\n",
        "scaled_accuracy = scaled_model.score(X_test_scaled, y_test)\n",
        "\n",
        "# Print accuracy comparison\n",
        "print(\"Accuracy without scaling:\", raw_accuracy)\n",
        "print(\"Accuracy with scaling:\", scaled_accuracy)"
      ]
    },
    {
      "cell_type": "code",
      "execution_count": null,
      "metadata": {
        "colab": {
          "base_uri": "https://localhost:8080/"
        },
        "id": "-csmjMZkZOvU",
        "outputId": "e7bbd06c-f489-4a55-8226-775a3e89890e"
      },
      "outputs": [
        {
          "name": "stdout",
          "output_type": "stream",
          "text": [
            "ROC-AUC Score: 0.9977\n"
          ]
        }
      ],
      "source": [
        "#16. Write a Python program to train Logistic Regression and evaluate its performance using ROC-AUC score.\n",
        "\n",
        "from sklearn.datasets import load_breast_cancer\n",
        "from sklearn.linear_model import LogisticRegression\n",
        "from sklearn.model_selection import train_test_split\n",
        "from sklearn.metrics import roc_auc_score\n",
        "\n",
        "# Load binary classification dataset\n",
        "X, y = load_breast_cancer(return_X_y=True)\n",
        "\n",
        "# Split into training and test sets\n",
        "X_train, X_test, y_train, y_test = train_test_split(X, y, test_size=0.2, random_state=42)\n",
        "\n",
        "# Train Logistic Regression model\n",
        "model = LogisticRegression(max_iter=10000)\n",
        "model.fit(X_train, y_train)\n",
        "\n",
        "# Predict probabilities\n",
        "y_proba = model.predict_proba(X_test)[:, 1]  # Probability for class 1\n",
        "\n",
        "# Evaluate ROC-AUC\n",
        "roc_auc = roc_auc_score(y_test, y_proba)\n",
        "print(f\"ROC-AUC Score: {roc_auc:.4f}\")"
      ]
    },
    {
      "cell_type": "code",
      "execution_count": null,
      "metadata": {
        "colab": {
          "base_uri": "https://localhost:8080/"
        },
        "id": "PGG9hBtWZOnA",
        "outputId": "90dcbc89-e50a-413f-f126-21a8b47a0b8d"
      },
      "outputs": [
        {
          "name": "stdout",
          "output_type": "stream",
          "text": [
            "Accuracy with C=0.5: 0.9649122807017544\n"
          ]
        }
      ],
      "source": [
        "#17. Write a Python program to train Logistic Regression using a custom learning rate (C=0.5) and evaluate accuracy.\n",
        "\n",
        "from sklearn.datasets import load_breast_cancer\n",
        "from sklearn.linear_model import LogisticRegression\n",
        "from sklearn.model_selection import train_test_split\n",
        "from sklearn.metrics import accuracy_score\n",
        "\n",
        "# Load dataset\n",
        "X, y = load_breast_cancer(return_X_y=True)\n",
        "\n",
        "# Train-test split\n",
        "X_train, X_test, y_train, y_test = train_test_split(X, y, test_size=0.2, random_state=42)\n",
        "\n",
        "# Train Logistic Regression with custom regularization strength (C=0.5)\n",
        "model = LogisticRegression(C=0.5, max_iter=10000)\n",
        "model.fit(X_train, y_train)\n",
        "\n",
        "# Evaluate accuracy\n",
        "accuracy = accuracy_score(y_test, model.predict(X_test))\n",
        "print(\"Accuracy with C=0.5:\", accuracy)"
      ]
    },
    {
      "cell_type": "code",
      "execution_count": null,
      "metadata": {
        "colab": {
          "base_uri": "https://localhost:8080/"
        },
        "id": "8fG8mW0eZOfM",
        "outputId": "fb65645c-5693-467b-f573-b10891850fc4"
      },
      "outputs": [
        {
          "name": "stdout",
          "output_type": "stream",
          "text": [
            "Top 10 important features based on Logistic Regression coefficients:\n",
            "                 Feature  Coefficient  Absolute Coefficient\n",
            "26       worst concavity    -1.428595              1.428595\n",
            "11         texture error     1.370567              1.370567\n",
            "0            mean radius     1.027437              1.027437\n",
            "25     worst compactness    -0.772709              0.772709\n",
            "28        worst symmetry    -0.746894              0.746894\n",
            "6         mean concavity    -0.532558              0.532558\n",
            "27  worst concave points    -0.510929              0.510929\n",
            "21         worst texture    -0.508877              0.508877\n",
            "2         mean perimeter    -0.362135              0.362135\n",
            "24      worst smoothness    -0.307731              0.307731\n"
          ]
        }
      ],
      "source": [
        "#18. Write a Python program to train Logistic Regression and identify important features based on model coefficients.\n",
        "\n",
        "import pandas as pd\n",
        "import numpy as np\n",
        "from sklearn.datasets import load_breast_cancer\n",
        "from sklearn.linear_model import LogisticRegression\n",
        "from sklearn.model_selection import train_test_split\n",
        "\n",
        "# Load dataset\n",
        "data = load_breast_cancer()\n",
        "X, y = data.data, data.target\n",
        "feature_names = data.feature_names\n",
        "\n",
        "# Train-test split\n",
        "X_train, X_test, y_train, y_test = train_test_split(X, y, test_size=0.2, random_state=42)\n",
        "\n",
        "# Train Logistic Regression\n",
        "model = LogisticRegression(max_iter=10000)\n",
        "model.fit(X_train, y_train)\n",
        "\n",
        "# Get feature importance from coefficients\n",
        "coefficients = model.coef_[0]\n",
        "feature_importance = pd.DataFrame({\n",
        "    'Feature': feature_names,\n",
        "    'Coefficient': coefficients,\n",
        "    'Absolute Coefficient': np.abs(coefficients)\n",
        "})\n",
        "\n",
        "# Sort by importance\n",
        "feature_importance = feature_importance.sort_values(by='Absolute Coefficient', ascending=False)\n",
        "\n",
        "# Display top features\n",
        "print(\"Top 10 important features based on Logistic Regression coefficients:\")\n",
        "print(feature_importance.head(10))"
      ]
    },
    {
      "cell_type": "code",
      "execution_count": null,
      "metadata": {
        "colab": {
          "base_uri": "https://localhost:8080/"
        },
        "id": "uz0DA3ctZOXY",
        "outputId": "a4a3a8c0-58fe-47e1-9e75-b03089aef3ce"
      },
      "outputs": [
        {
          "name": "stdout",
          "output_type": "stream",
          "text": [
            "Cohen’s Kappa Score: 0.9053\n"
          ]
        }
      ],
      "source": [
        "#19. Write a Python program to train Logistic Regression and evaluate its performance using Cohen’s Kappa Score.\n",
        "\n",
        "from sklearn.datasets import load_breast_cancer\n",
        "from sklearn.linear_model import LogisticRegression\n",
        "from sklearn.model_selection import train_test_split\n",
        "from sklearn.metrics import cohen_kappa_score\n",
        "\n",
        "# Load binary classification dataset\n",
        "X, y = load_breast_cancer(return_X_y=True)\n",
        "\n",
        "# Split the dataset\n",
        "X_train, X_test, y_train, y_test = train_test_split(X, y, test_size=0.2, random_state=42)\n",
        "\n",
        "# Train Logistic Regression\n",
        "model = LogisticRegression(max_iter=10000)\n",
        "model.fit(X_train, y_train)\n",
        "\n",
        "# Predict on test data\n",
        "y_pred = model.predict(X_test)\n",
        "\n",
        "# Calculate Cohen’s Kappa Score\n",
        "kappa_score = cohen_kappa_score(y_test, y_pred)\n",
        "print(f\"Cohen’s Kappa Score: {kappa_score:.4f}\")"
      ]
    },
    {
      "cell_type": "code",
      "execution_count": null,
      "metadata": {
        "colab": {
          "base_uri": "https://localhost:8080/",
          "height": 472
        },
        "id": "3gqIlav3ZOPl",
        "outputId": "120d4645-903e-4d57-8f74-af921cb2aab0"
      },
      "outputs": [
        {
          "data": {
            "image/png": "[encoded data removed]",
            "text/plain": [
              "<Figure size 640x480 with 1 Axes>"
            ]
          },
          "metadata": {},
          "output_type": "display_data"
        }
      ],
      "source": [
        "#20. Write a Python program to train Logistic Regression and visualize the Precision-Recall Curve for binary classification.\n",
        "\n",
        "from sklearn.datasets import load_breast_cancer\n",
        "from sklearn.linear_model import LogisticRegression\n",
        "from sklearn.model_selection import train_test_split\n",
        "from sklearn.metrics import PrecisionRecallDisplay\n",
        "import matplotlib.pyplot as plt\n",
        "\n",
        "# Load binary classification dataset\n",
        "X, y = load_breast_cancer(return_X_y=True)\n",
        "\n",
        "# Split into train and test sets\n",
        "X_train, X_test, y_train, y_test = train_test_split(X, y, test_size=0.2, random_state=42)\n",
        "\n",
        "# Train Logistic Regression model\n",
        "model = LogisticRegression(max_iter=10000)\n",
        "model.fit(X_train, y_train)\n",
        "\n",
        "# Plot Precision-Recall curve\n",
        "PrecisionRecallDisplay.from_estimator(model, X_test, y_test)\n",
        "plt.title(\"Precision-Recall Curve\")\n",
        "plt.grid(True)\n",
        "plt.show()"
      ]
    },
    {
      "cell_type": "code",
      "execution_count": null,
      "metadata": {
        "colab": {
          "base_uri": "https://localhost:8080/"
        },
        "id": "ATb52sr_ZOIi",
        "outputId": "aa2c5558-c0dd-40b6-9ac1-3811b63ccf5b"
      },
      "outputs": [
        {
          "name": "stdout",
          "output_type": "stream",
          "text": [
            "Solver: liblinear, Accuracy: 0.9561\n",
            "Solver: saga, Accuracy: 0.9737\n",
            "Solver: lbfgs, Accuracy: 0.9561\n"
          ]
        }
      ],
      "source": [
        "#21. Write a Python program to train Logistic Regression with different solvers (liblinear, saga, lbfgs) and compare their accuracy.\n",
        "\n",
        "from sklearn.datasets import load_breast_cancer\n",
        "from sklearn.linear_model import LogisticRegression\n",
        "from sklearn.model_selection import train_test_split\n",
        "from sklearn.metrics import accuracy_score\n",
        "\n",
        "# Load dataset\n",
        "X, y = load_breast_cancer(return_X_y=True)\n",
        "X_train, X_test, y_train, y_test = train_test_split(X, y, test_size=0.2, random_state=42)\n",
        "\n",
        "# List of solvers to test\n",
        "solvers = ['liblinear', 'saga', 'lbfgs']\n",
        "\n",
        "# Evaluate each solver\n",
        "for solver in solvers:\n",
        "    try:\n",
        "        model = LogisticRegression(solver=solver, max_iter=10000)\n",
        "        model.fit(X_train, y_train)\n",
        "        accuracy = accuracy_score(y_test, model.predict(X_test))\n",
        "        print(f\"Solver: {solver}, Accuracy: {accuracy:.4f}\")\n",
        "    except Exception as e:\n",
        "        print(f\"Solver: {solver} failed with error: {e}\")"
      ]
    },
    {
      "cell_type": "code",
      "execution_count": null,
      "metadata": {
        "colab": {
          "base_uri": "https://localhost:8080/"
        },
        "id": "kCvz5gisZOAe",
        "outputId": "e9f3a0b4-cc07-4bb5-8035-a945f5a06b50"
      },
      "outputs": [
        {
          "name": "stdout",
          "output_type": "stream",
          "text": [
            "Matthews Correlation Coefficient (MCC): 0.9068\n"
          ]
        }
      ],
      "source": [
        "#22. Write a Python program to train Logistic Regression and evaluate its performance using Matthews Correlation Coefficient (MCC).\n",
        "\n",
        "from sklearn.datasets import load_breast_cancer\n",
        "from sklearn.linear_model import LogisticRegression\n",
        "from sklearn.model_selection import train_test_split\n",
        "from sklearn.metrics import matthews_corrcoef\n",
        "\n",
        "# Load dataset\n",
        "X, y = load_breast_cancer(return_X_y=True)\n",
        "X_train, X_test, y_train, y_test = train_test_split(X, y, test_size=0.2, random_state=42)\n",
        "\n",
        "# Train Logistic Regression\n",
        "model = LogisticRegression(max_iter=10000)\n",
        "model.fit(X_train, y_train)\n",
        "\n",
        "# Predict and compute MCC\n",
        "y_pred = model.predict(X_test)\n",
        "mcc = matthews_corrcoef(y_test, y_pred)\n",
        "\n",
        "print(f\"Matthews Correlation Coefficient (MCC): {mcc:.4f}\")"
      ]
    },
    {
      "cell_type": "code",
      "execution_count": null,
      "metadata": {
        "colab": {
          "base_uri": "https://localhost:8080/"
        },
        "id": "-CBVXIb7ZN44",
        "outputId": "b8f8c0c6-f087-4ea2-e4a8-f7afa1d1ce8f"
      },
      "outputs": [
        {
          "name": "stdout",
          "output_type": "stream",
          "text": [
            "Accuracy on raw data: 0.9561\n",
            "Accuracy on standardized data: 0.9737\n"
          ]
        }
      ],
      "source": [
        "#23. Write a Python program to train Logistic Regression on both raw and standardized data. Compare their accuracy to see the impact of feature scaling.\n",
        "\n",
        "from sklearn.datasets import load_breast_cancer\n",
        "from sklearn.linear_model import LogisticRegression\n",
        "from sklearn.model_selection import train_test_split\n",
        "from sklearn.preprocessing import StandardScaler\n",
        "from sklearn.metrics import accuracy_score\n",
        "\n",
        "# Load dataset\n",
        "X, y = load_breast_cancer(return_X_y=True)\n",
        "\n",
        "# Split data\n",
        "X_train, X_test, y_train, y_test = train_test_split(X, y, test_size=0.2, random_state=42)\n",
        "\n",
        "# Train Logistic Regression on raw data\n",
        "raw_model = LogisticRegression(max_iter=10000)\n",
        "raw_model.fit(X_train, y_train)\n",
        "raw_accuracy = accuracy_score(y_test, raw_model.predict(X_test))\n",
        "\n",
        "# Standardize the data\n",
        "scaler = StandardScaler()\n",
        "X_train_scaled = scaler.fit_transform(X_train)\n",
        "X_test_scaled = scaler.transform(X_test)\n",
        "\n",
        "# Train Logistic Regression on standardized data\n",
        "scaled_model = LogisticRegression(max_iter=10000)\n",
        "scaled_model.fit(X_train_scaled, y_train)\n",
        "scaled_accuracy = accuracy_score(y_test, scaled_model.predict(X_test_scaled))\n",
        "\n",
        "# Compare results\n",
        "print(f\"Accuracy on raw data: {raw_accuracy:.4f}\")\n",
        "print(f\"Accuracy on standardized data: {scaled_accuracy:.4f}\")"
      ]
    },
    {
      "cell_type": "code",
      "execution_count": null,
      "metadata": {
        "colab": {
          "base_uri": "https://localhost:8080/"
        },
        "id": "4FlZBQrHZNwT",
        "outputId": "229e02b2-c93d-45ee-bc93-0da79bfaf896"
      },
      "outputs": [
        {
          "name": "stdout",
          "output_type": "stream",
          "text": [
            "Best C: 0.5\n",
            "Accuracy with best C: 0.776536312849162\n"
          ]
        }
      ],
      "source": [
        "#24. Write a Python program to train Logistic Regression and find the optimal C (regularization strength) using cross-validation.\n",
        "\n",
        "import pandas as pd\n",
        "from sklearn.linear_model import LogisticRegression\n",
        "from sklearn.model_selection import train_test_split, GridSearchCV\n",
        "from sklearn.metrics import accuracy_score\n",
        "\n",
        "# Load Titanic dataset\n",
        "url = 'https://raw.githubusercontent.com/datasciencedojo/datasets/master/titanic.csv'\n",
        "df = pd.read_csv(url)\n",
        "\n",
        "# Preprocess\n",
        "df['Sex'] = df['Sex'].map({'male': 0, 'female': 1})\n",
        "X = df[['Pclass', 'Sex', 'Age', 'Fare']].fillna(0)\n",
        "y = df['Survived']\n",
        "\n",
        "# Split dataset\n",
        "X_train, X_test, y_train, y_test = train_test_split(X, y, test_size=0.2, random_state=42)\n",
        "\n",
        "# Grid search for optimal C\n",
        "param_grid = {'C': [0.01, 0.1, 0.5, 1, 10, 100]}\n",
        "grid = GridSearchCV(LogisticRegression(max_iter=1000), param_grid, cv=5)\n",
        "grid.fit(X_train, y_train)\n",
        "\n",
        "# Best model\n",
        "best_model = grid.best_estimator_\n",
        "y_pred = best_model.predict(X_test)\n",
        "\n",
        "# Output\n",
        "print(\"Best C:\", grid.best_params_['C'])\n",
        "print(\"Accuracy with best C:\", accuracy_score(y_test, y_pred))"
      ]
    },
    {
      "cell_type": "code",
      "execution_count": null,
      "metadata": {
        "colab": {
          "base_uri": "https://localhost:8080/"
        },
        "id": "OySdixw4ZNn_",
        "outputId": "7d2329ca-57ce-4994-969a-acb3f5be5589"
      },
      "outputs": [
        {
          "name": "stdout",
          "output_type": "stream",
          "text": [
            "Reloaded model accuracy: 0.9561\n"
          ]
        }
      ],
      "source": [
        "#25. Write a Python program to train Logistic Regression, save the trained model using joblib, and load it again to make predictions.\n",
        "\n",
        "import joblib\n",
        "from sklearn.datasets import load_breast_cancer\n",
        "from sklearn.linear_model import LogisticRegression\n",
        "from sklearn.model_selection import train_test_split\n",
        "from sklearn.metrics import accuracy_score\n",
        "\n",
        "# Load dataset\n",
        "X, y = load_breast_cancer(return_X_y=True)\n",
        "X_train, X_test, y_train, y_test = train_test_split(X, y, test_size=0.2, random_state=42)\n",
        "\n",
        "# Train Logistic Regression model\n",
        "model = LogisticRegression(max_iter=10000)\n",
        "model.fit(X_train, y_train)\n",
        "\n",
        "# Save the model to file\n",
        "joblib.dump(model, 'logistic_model.pkl')\n",
        "\n",
        "# Load the model from file\n",
        "loaded_model = joblib.load('logistic_model.pkl')\n",
        "\n",
        "# Make predictions and evaluate\n",
        "y_pred = loaded_model.predict(X_test)\n",
        "accuracy = accuracy_score(y_test, y_pred)\n",
        "print(f\"Reloaded model accuracy: {accuracy:.4f}\")"
      ]
    }
  ],
  "metadata": {
    "colab": {
      "provenance": []
    },
    "kernelspec": {
      "display_name": "Python 3",
      "name": "python3"
    },
    "language_info": {
      "name": "python"
    }
  },
  "nbformat": 4,
  "nbformat_minor": 0
}
